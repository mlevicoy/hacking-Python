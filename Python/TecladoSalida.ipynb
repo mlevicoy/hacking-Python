{
 "cells": [
  {
   "cell_type": "code",
   "execution_count": 1,
   "id": "01d2841a",
   "metadata": {},
   "outputs": [],
   "source": [
    "# ENTRADA POR TECLADO"
   ]
  },
  {
   "cell_type": "code",
   "execution_count": 3,
   "id": "f0324c4b",
   "metadata": {},
   "outputs": [
    {
     "name": "stdout",
     "output_type": "stream",
     "text": [
      "Ingresa tu clave: MiClave123\n"
     ]
    }
   ],
   "source": [
    "ingreso = input(\"Ingresa tu clave: \")"
   ]
  },
  {
   "cell_type": "code",
   "execution_count": 4,
   "id": "c39c6221",
   "metadata": {},
   "outputs": [
    {
     "data": {
      "text/plain": [
       "'MiClave123'"
      ]
     },
     "execution_count": 4,
     "metadata": {},
     "output_type": "execute_result"
    }
   ],
   "source": [
    "ingreso"
   ]
  },
  {
   "cell_type": "code",
   "execution_count": 6,
   "id": "76765129",
   "metadata": {},
   "outputs": [
    {
     "name": "stdout",
     "output_type": "stream",
     "text": [
      "Ingresa ya mismo 5 números: \n",
      "Ingresa un número: 1\n",
      "Ingresa un número: 2\n",
      "Ingresa un número: 3\n",
      "Ingresa un número: 4\n",
      "Ingresa un número: 5\n"
     ]
    },
    {
     "data": {
      "text/plain": [
       "['1', '2', '3', '4', '5']"
      ]
     },
     "execution_count": 6,
     "metadata": {},
     "output_type": "execute_result"
    }
   ],
   "source": [
    "listas = []\n",
    "print(\"Ingresa ya mismo 5 números: \")\n",
    "for i in range(5):\n",
    "    listas.append(input(\"Ingresa un número: \"))\n",
    "listas"
   ]
  },
  {
   "cell_type": "code",
   "execution_count": null,
   "id": "729e5371",
   "metadata": {},
   "outputs": [],
   "source": [
    "# SALIDA POR PANTALLA"
   ]
  },
  {
   "cell_type": "code",
   "execution_count": 1,
   "id": "f6bcec31",
   "metadata": {},
   "outputs": [
    {
     "name": "stdout",
     "output_type": "stream",
     "text": [
      "Hola mis queridos amigos.\n"
     ]
    }
   ],
   "source": [
    "print(\"Hola mis queridos amigos.\")"
   ]
  },
  {
   "cell_type": "code",
   "execution_count": 2,
   "id": "00d37461",
   "metadata": {},
   "outputs": [],
   "source": [
    "variable = 'Alvaro Chirou'\n",
    "otra = 'Genios estudiantes'\n",
    "forma = \"El profesor '{}' y sus '{}'\".format(variable, otra)"
   ]
  },
  {
   "cell_type": "code",
   "execution_count": 3,
   "id": "4b932485",
   "metadata": {},
   "outputs": [
    {
     "data": {
      "text/plain": [
       "\"El profesor 'Alvaro Chirou' y sus 'Genios estudiantes'\""
      ]
     },
     "execution_count": 3,
     "metadata": {},
     "output_type": "execute_result"
    }
   ],
   "source": [
    "forma"
   ]
  },
  {
   "cell_type": "code",
   "execution_count": 4,
   "id": "93dc42a0",
   "metadata": {},
   "outputs": [
    {
     "name": "stdout",
     "output_type": "stream",
     "text": [
      "El profesor 'Alvaro Chirou' y sus 'Genios estudiantes'\n"
     ]
    }
   ],
   "source": [
    "print(forma)"
   ]
  },
  {
   "cell_type": "code",
   "execution_count": 5,
   "id": "48ac7bff",
   "metadata": {},
   "outputs": [],
   "source": [
    "forma = \"El profesor '{1}' y sus '{0}'\".format(variable, otra)"
   ]
  },
  {
   "cell_type": "code",
   "execution_count": 6,
   "id": "f71dd4d2",
   "metadata": {},
   "outputs": [
    {
     "data": {
      "text/plain": [
       "\"El profesor 'Genios estudiantes' y sus 'Alvaro Chirou'\""
      ]
     },
     "execution_count": 6,
     "metadata": {},
     "output_type": "execute_result"
    }
   ],
   "source": [
    "forma"
   ]
  },
  {
   "cell_type": "code",
   "execution_count": 7,
   "id": "5c742595",
   "metadata": {},
   "outputs": [
    {
     "name": "stdout",
     "output_type": "stream",
     "text": [
      "Alvaro Chirou\n"
     ]
    }
   ],
   "source": [
    "print('{:10}'.format('Alvaro Chirou'))"
   ]
  },
  {
   "cell_type": "code",
   "execution_count": 8,
   "id": "9d577ba0",
   "metadata": {},
   "outputs": [
    {
     "name": "stdout",
     "output_type": "stream",
     "text": [
      "                                     Alvaro Chirou\n"
     ]
    }
   ],
   "source": [
    "print('{:>50}'.format('Alvaro Chirou'))"
   ]
  },
  {
   "cell_type": "code",
   "execution_count": null,
   "id": "8643d7e4",
   "metadata": {},
   "outputs": [],
   "source": []
  },
  {
   "cell_type": "code",
   "execution_count": null,
   "id": "53485ccb",
   "metadata": {},
   "outputs": [],
   "source": []
  }
 ],
 "metadata": {
  "kernelspec": {
   "display_name": "Python 3",
   "language": "python",
   "name": "python3"
  },
  "language_info": {
   "codemirror_mode": {
    "name": "ipython",
    "version": 3
   },
   "file_extension": ".py",
   "mimetype": "text/x-python",
   "name": "python",
   "nbconvert_exporter": "python",
   "pygments_lexer": "ipython3",
   "version": "3.8.8"
  }
 },
 "nbformat": 4,
 "nbformat_minor": 5
}
