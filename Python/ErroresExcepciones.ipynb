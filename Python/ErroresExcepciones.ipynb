{
 "cells": [
  {
   "cell_type": "code",
   "execution_count": null,
   "id": "3f6292c8",
   "metadata": {},
   "outputs": [],
   "source": [
    "# ERRORES"
   ]
  },
  {
   "cell_type": "code",
   "execution_count": null,
   "id": "52316b1d",
   "metadata": {},
   "outputs": [],
   "source": [
    "# Falto cerrar el print\n",
    "print('Alvaro"
   ]
  },
  {
   "cell_type": "code",
   "execution_count": null,
   "id": "49c944dd",
   "metadata": {},
   "outputs": [],
   "source": [
    "# El mandato ping no esta definido\n",
    "ping('Cualquiera')"
   ]
  },
  {
   "cell_type": "code",
   "execution_count": null,
   "id": "6b912a36",
   "metadata": {},
   "outputs": [],
   "source": [
    "lista = []"
   ]
  },
  {
   "cell_type": "code",
   "execution_count": null,
   "id": "ff70aeee",
   "metadata": {},
   "outputs": [],
   "source": [
    "lista"
   ]
  },
  {
   "cell_type": "code",
   "execution_count": null,
   "id": "aa746945",
   "metadata": {},
   "outputs": [],
   "source": [
    "# Ver el tipo\n",
    "type(lista)"
   ]
  },
  {
   "cell_type": "code",
   "execution_count": null,
   "id": "0ced891d",
   "metadata": {},
   "outputs": [],
   "source": [
    "# Intenta sacar un elemento y la lista esta vacia\n",
    "lista.pop()"
   ]
  },
  {
   "cell_type": "code",
   "execution_count": null,
   "id": "14751d9e",
   "metadata": {},
   "outputs": [],
   "source": [
    "# EXCEPCIONES MULTIPLES"
   ]
  },
  {
   "cell_type": "code",
   "execution_count": null,
   "id": "7425a1fe",
   "metadata": {},
   "outputs": [],
   "source": [
    "variable = float(input(\"Introduce algo: \"))\n",
    "a = 2\n",
    "print(\"Resultado: \", a * variable)"
   ]
  },
  {
   "cell_type": "code",
   "execution_count": null,
   "id": "f2a69a6a",
   "metadata": {},
   "outputs": [],
   "source": [
    "try:\n",
    "    variable = float(input(\"Introduce un número: \"))\n",
    "    a = 2\n",
    "    print(\"Resultado: \", a * variable)\n",
    "except:\n",
    "    print(\"Ingresaste cualquier otra cosa menos la que se te pidio.\")"
   ]
  },
  {
   "cell_type": "code",
   "execution_count": null,
   "id": "0f5c58a7",
   "metadata": {},
   "outputs": [],
   "source": [
    "while(True):\n",
    "    try:\n",
    "        variable = float(input(\"Introduce un número: \"))\n",
    "        a = 2\n",
    "        print(\"Resultado: \", a * variable)\n",
    "        break\n",
    "    except:\n",
    "        print(\"Ingresaste cualquier otra cosa menos la que se te pidio.\")"
   ]
  },
  {
   "cell_type": "code",
   "execution_count": null,
   "id": "eef6afd2",
   "metadata": {},
   "outputs": [],
   "source": [
    "while(True):\n",
    "    try:\n",
    "        variable = float(input(\"Introduce un número: \"))\n",
    "        a = 2\n",
    "        print(\"Resultado: \", a * variable)\n",
    "    except:\n",
    "        print(\"Ingresaste cualquier cosa, intenta de nuevo.\")\n",
    "    else:\n",
    "        print(\"Inicio de sesión correcto\")\n",
    "        break\n",
    "    finally:\n",
    "        print(\"Siempre me repito este mensaje\")"
   ]
  },
  {
   "cell_type": "code",
   "execution_count": 1,
   "id": "28879a47",
   "metadata": {},
   "outputs": [
    {
     "name": "stdout",
     "output_type": "stream",
     "text": [
      "Número: a\n",
      "TypeError\n"
     ]
    }
   ],
   "source": [
    "try:\n",
    "    a = input(\"Número: \")\n",
    "    10/a\n",
    "except Exception as x:\n",
    "    # Indica el tipo de excepción\n",
    "    print(type(x).__name__)"
   ]
  },
  {
   "cell_type": "code",
   "execution_count": 3,
   "id": "8c068e93",
   "metadata": {},
   "outputs": [
    {
     "name": "stdout",
     "output_type": "stream",
     "text": [
      "Número: 0\n",
      "No se puede dividir por cero.\n"
     ]
    }
   ],
   "source": [
    "try:\n",
    "    a = float(input(\"Número: \"))\n",
    "    10/a\n",
    "except TypeError:\n",
    "    print(\"Esto es una cadena.\")\n",
    "except ValueError:\n",
    "    print(\"La cadena debe ser un número.\")\n",
    "except ZeroDivisionError:\n",
    "    print(\"No se puede dividir por cero.\")\n",
    "except Exception as x:\n",
    "    print(type(x).__name__)"
   ]
  },
  {
   "cell_type": "code",
   "execution_count": 4,
   "id": "9a67d9bd",
   "metadata": {},
   "outputs": [
    {
     "name": "stdout",
     "output_type": "stream",
     "text": [
      "Debe escribir algo\n"
     ]
    }
   ],
   "source": [
    "# excepción manual\n",
    "def profesor(estudiantes=None):\n",
    "    if estudiantes is None:\n",
    "        print(\"Debe escribir algo\")\n",
    "profesor()"
   ]
  },
  {
   "cell_type": "code",
   "execution_count": 5,
   "id": "2b044c34",
   "metadata": {},
   "outputs": [],
   "source": [
    "profesor(\"algo\")"
   ]
  },
  {
   "cell_type": "code",
   "execution_count": 7,
   "id": "6504a72e",
   "metadata": {},
   "outputs": [
    {
     "ename": "ValueError",
     "evalue": "Debe escribir algo***",
     "output_type": "error",
     "traceback": [
      "\u001b[1;31m---------------------------------------------------------------------------\u001b[0m",
      "\u001b[1;31mValueError\u001b[0m                                Traceback (most recent call last)",
      "\u001b[1;32m<ipython-input-7-8f96bf5bdbe5>\u001b[0m in \u001b[0;36m<module>\u001b[1;34m\u001b[0m\n\u001b[0;32m      3\u001b[0m     \u001b[1;32mraise\u001b[0m \u001b[0mValueError\u001b[0m\u001b[1;33m(\u001b[0m\u001b[1;34m\"Debe escribir algo***\"\u001b[0m\u001b[1;33m)\u001b[0m\u001b[1;33m\u001b[0m\u001b[1;33m\u001b[0m\u001b[0m\n\u001b[0;32m      4\u001b[0m \u001b[1;33m\u001b[0m\u001b[0m\n\u001b[1;32m----> 5\u001b[1;33m \u001b[0mprofesor\u001b[0m\u001b[1;33m(\u001b[0m\u001b[1;33m)\u001b[0m\u001b[1;33m\u001b[0m\u001b[1;33m\u001b[0m\u001b[0m\n\u001b[0m",
      "\u001b[1;32m<ipython-input-7-8f96bf5bdbe5>\u001b[0m in \u001b[0;36mprofesor\u001b[1;34m(estudiantes)\u001b[0m\n\u001b[0;32m      1\u001b[0m \u001b[1;31m# raise muestra el mensaje aunque ocurra el error\u001b[0m\u001b[1;33m\u001b[0m\u001b[1;33m\u001b[0m\u001b[1;33m\u001b[0m\u001b[0m\n\u001b[0;32m      2\u001b[0m \u001b[1;32mdef\u001b[0m \u001b[0mprofesor\u001b[0m\u001b[1;33m(\u001b[0m\u001b[0mestudiantes\u001b[0m\u001b[1;33m=\u001b[0m\u001b[1;32mNone\u001b[0m\u001b[1;33m)\u001b[0m\u001b[1;33m:\u001b[0m\u001b[1;33m\u001b[0m\u001b[1;33m\u001b[0m\u001b[0m\n\u001b[1;32m----> 3\u001b[1;33m     \u001b[1;32mraise\u001b[0m \u001b[0mValueError\u001b[0m\u001b[1;33m(\u001b[0m\u001b[1;34m\"Debe escribir algo***\"\u001b[0m\u001b[1;33m)\u001b[0m\u001b[1;33m\u001b[0m\u001b[1;33m\u001b[0m\u001b[0m\n\u001b[0m\u001b[0;32m      4\u001b[0m \u001b[1;33m\u001b[0m\u001b[0m\n\u001b[0;32m      5\u001b[0m \u001b[0mprofesor\u001b[0m\u001b[1;33m(\u001b[0m\u001b[1;33m)\u001b[0m\u001b[1;33m\u001b[0m\u001b[1;33m\u001b[0m\u001b[0m\n",
      "\u001b[1;31mValueError\u001b[0m: Debe escribir algo***"
     ]
    }
   ],
   "source": [
    "# raise muestra el mensaje aunque ocurra el error\n",
    "def profesor(estudiantes=None):\n",
    "    raise ValueError(\"Debe escribir algo***\")\n",
    "\n",
    "profesor()"
   ]
  },
  {
   "cell_type": "code",
   "execution_count": null,
   "id": "08d5e13b",
   "metadata": {},
   "outputs": [],
   "source": []
  },
  {
   "cell_type": "code",
   "execution_count": null,
   "id": "bbf79921",
   "metadata": {},
   "outputs": [],
   "source": []
  },
  {
   "cell_type": "code",
   "execution_count": null,
   "id": "8825c5aa",
   "metadata": {},
   "outputs": [],
   "source": []
  },
  {
   "cell_type": "code",
   "execution_count": null,
   "id": "66864591",
   "metadata": {},
   "outputs": [],
   "source": []
  },
  {
   "cell_type": "code",
   "execution_count": null,
   "id": "46c89732",
   "metadata": {},
   "outputs": [],
   "source": []
  }
 ],
 "metadata": {
  "kernelspec": {
   "display_name": "Python 3",
   "language": "python",
   "name": "python3"
  },
  "language_info": {
   "codemirror_mode": {
    "name": "ipython",
    "version": 3
   },
   "file_extension": ".py",
   "mimetype": "text/x-python",
   "name": "python",
   "nbconvert_exporter": "python",
   "pygments_lexer": "ipython3",
   "version": "3.8.8"
  }
 },
 "nbformat": 4,
 "nbformat_minor": 5
}
