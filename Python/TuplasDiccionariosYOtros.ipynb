{
 "cells": [
  {
   "cell_type": "code",
   "execution_count": 1,
   "id": "14419557",
   "metadata": {},
   "outputs": [],
   "source": [
    "# TUPLAS"
   ]
  },
  {
   "cell_type": "code",
   "execution_count": 2,
   "id": "f7f26002",
   "metadata": {},
   "outputs": [],
   "source": [
    "t = ('Manuel', 'Levicoy', 'estudiantes', 10, [1,2,8], 10, -80)"
   ]
  },
  {
   "cell_type": "code",
   "execution_count": 3,
   "id": "739e649b",
   "metadata": {},
   "outputs": [
    {
     "data": {
      "text/plain": [
       "('Manuel', 'Levicoy', 'estudiantes', 10, [1, 2, 8], 10, -80)"
      ]
     },
     "execution_count": 3,
     "metadata": {},
     "output_type": "execute_result"
    }
   ],
   "source": [
    "t"
   ]
  },
  {
   "cell_type": "code",
   "execution_count": 4,
   "id": "020ff58f",
   "metadata": {},
   "outputs": [
    {
     "data": {
      "text/plain": [
       "'Manuel'"
      ]
     },
     "execution_count": 4,
     "metadata": {},
     "output_type": "execute_result"
    }
   ],
   "source": [
    "t[0]"
   ]
  },
  {
   "cell_type": "code",
   "execution_count": 5,
   "id": "1b901051",
   "metadata": {},
   "outputs": [
    {
     "data": {
      "text/plain": [
       "10"
      ]
     },
     "execution_count": 5,
     "metadata": {},
     "output_type": "execute_result"
    }
   ],
   "source": [
    "t[3]"
   ]
  },
  {
   "cell_type": "code",
   "execution_count": 6,
   "id": "114f3de0",
   "metadata": {},
   "outputs": [
    {
     "data": {
      "text/plain": [
       "'estudiantes'"
      ]
     },
     "execution_count": 6,
     "metadata": {},
     "output_type": "execute_result"
    }
   ],
   "source": [
    "t[2]"
   ]
  },
  {
   "cell_type": "code",
   "execution_count": 7,
   "id": "defd6a22",
   "metadata": {},
   "outputs": [
    {
     "data": {
      "text/plain": [
       "('estudiantes', 10, [1, 2, 8], 10, -80)"
      ]
     },
     "execution_count": 7,
     "metadata": {},
     "output_type": "execute_result"
    }
   ],
   "source": [
    "t[2:]"
   ]
  },
  {
   "cell_type": "code",
   "execution_count": 8,
   "id": "59fbf498",
   "metadata": {},
   "outputs": [
    {
     "ename": "TypeError",
     "evalue": "'tuple' object does not support item assignment",
     "output_type": "error",
     "traceback": [
      "\u001b[1;31m---------------------------------------------------------------------------\u001b[0m",
      "\u001b[1;31mTypeError\u001b[0m                                 Traceback (most recent call last)",
      "\u001b[1;32m<ipython-input-8-b50887e0682f>\u001b[0m in \u001b[0;36m<module>\u001b[1;34m\u001b[0m\n\u001b[1;32m----> 1\u001b[1;33m \u001b[0mt\u001b[0m\u001b[1;33m[\u001b[0m\u001b[1;36m0\u001b[0m\u001b[1;33m]\u001b[0m \u001b[1;33m=\u001b[0m \u001b[1;34m'Juana'\u001b[0m\u001b[1;33m\u001b[0m\u001b[1;33m\u001b[0m\u001b[0m\n\u001b[0m",
      "\u001b[1;31mTypeError\u001b[0m: 'tuple' object does not support item assignment"
     ]
    }
   ],
   "source": [
    "t[0] = 'Juana'"
   ]
  },
  {
   "cell_type": "code",
   "execution_count": 9,
   "id": "ab314495",
   "metadata": {},
   "outputs": [
    {
     "data": {
      "text/plain": [
       "7"
      ]
     },
     "execution_count": 9,
     "metadata": {},
     "output_type": "execute_result"
    }
   ],
   "source": [
    "len(t)"
   ]
  },
  {
   "cell_type": "code",
   "execution_count": 10,
   "id": "21461e0a",
   "metadata": {},
   "outputs": [
    {
     "data": {
      "text/plain": [
       "6"
      ]
     },
     "execution_count": 10,
     "metadata": {},
     "output_type": "execute_result"
    }
   ],
   "source": [
    "len(t[0])"
   ]
  },
  {
   "cell_type": "code",
   "execution_count": 11,
   "id": "5b1fca8d",
   "metadata": {},
   "outputs": [
    {
     "data": {
      "text/plain": [
       "1"
      ]
     },
     "execution_count": 11,
     "metadata": {},
     "output_type": "execute_result"
    }
   ],
   "source": [
    "t.index('Levicoy')"
   ]
  },
  {
   "cell_type": "code",
   "execution_count": 12,
   "id": "3594b891",
   "metadata": {},
   "outputs": [
    {
     "ename": "ValueError",
     "evalue": "tuple.index(x): x not in tuple",
     "output_type": "error",
     "traceback": [
      "\u001b[1;31m---------------------------------------------------------------------------\u001b[0m",
      "\u001b[1;31mValueError\u001b[0m                                Traceback (most recent call last)",
      "\u001b[1;32m<ipython-input-12-679b03f063e1>\u001b[0m in \u001b[0;36m<module>\u001b[1;34m\u001b[0m\n\u001b[1;32m----> 1\u001b[1;33m \u001b[0mt\u001b[0m\u001b[1;33m.\u001b[0m\u001b[0mindex\u001b[0m\u001b[1;33m(\u001b[0m\u001b[1;34m'otro'\u001b[0m\u001b[1;33m)\u001b[0m\u001b[1;33m\u001b[0m\u001b[1;33m\u001b[0m\u001b[0m\n\u001b[0m",
      "\u001b[1;31mValueError\u001b[0m: tuple.index(x): x not in tuple"
     ]
    }
   ],
   "source": [
    "t.index('otro')"
   ]
  },
  {
   "cell_type": "code",
   "execution_count": 13,
   "id": "cb1b3077",
   "metadata": {},
   "outputs": [
    {
     "data": {
      "text/plain": [
       "1"
      ]
     },
     "execution_count": 13,
     "metadata": {},
     "output_type": "execute_result"
    }
   ],
   "source": [
    "t.count('Levicoy')"
   ]
  },
  {
   "cell_type": "code",
   "execution_count": 14,
   "id": "0bc48c27",
   "metadata": {},
   "outputs": [
    {
     "data": {
      "text/plain": [
       "2"
      ]
     },
     "execution_count": 14,
     "metadata": {},
     "output_type": "execute_result"
    }
   ],
   "source": [
    "t.count(10)"
   ]
  },
  {
   "cell_type": "code",
   "execution_count": 15,
   "id": "00fde123",
   "metadata": {},
   "outputs": [
    {
     "ename": "AttributeError",
     "evalue": "'tuple' object has no attribute 'append'",
     "output_type": "error",
     "traceback": [
      "\u001b[1;31m---------------------------------------------------------------------------\u001b[0m",
      "\u001b[1;31mAttributeError\u001b[0m                            Traceback (most recent call last)",
      "\u001b[1;32m<ipython-input-15-63dbd90006a1>\u001b[0m in \u001b[0;36m<module>\u001b[1;34m\u001b[0m\n\u001b[1;32m----> 1\u001b[1;33m \u001b[0mt\u001b[0m\u001b[1;33m.\u001b[0m\u001b[0mappend\u001b[0m\u001b[1;33m(\u001b[0m\u001b[1;34m'a'\u001b[0m\u001b[1;33m)\u001b[0m\u001b[1;33m\u001b[0m\u001b[1;33m\u001b[0m\u001b[0m\n\u001b[0m",
      "\u001b[1;31mAttributeError\u001b[0m: 'tuple' object has no attribute 'append'"
     ]
    }
   ],
   "source": [
    "t.append('a')"
   ]
  },
  {
   "cell_type": "code",
   "execution_count": null,
   "id": "6963b0cf",
   "metadata": {},
   "outputs": [],
   "source": [
    "# CONJUNTOS"
   ]
  },
  {
   "cell_type": "code",
   "execution_count": 16,
   "id": "8af56a59",
   "metadata": {},
   "outputs": [
    {
     "data": {
      "text/plain": [
       "{3, 4, 5}"
      ]
     },
     "execution_count": 16,
     "metadata": {},
     "output_type": "execute_result"
    }
   ],
   "source": [
    "con = {5, 4, 3}\n",
    "con"
   ]
  },
  {
   "cell_type": "code",
   "execution_count": 17,
   "id": "e904456e",
   "metadata": {},
   "outputs": [
    {
     "data": {
      "text/plain": [
       "{2, 3, 4, 5}"
      ]
     },
     "execution_count": 17,
     "metadata": {},
     "output_type": "execute_result"
    }
   ],
   "source": [
    "con.add(2)\n",
    "con"
   ]
  },
  {
   "cell_type": "code",
   "execution_count": 18,
   "id": "f2f606cf",
   "metadata": {},
   "outputs": [
    {
     "data": {
      "text/plain": [
       "{2, 3, 4, 5, 6}"
      ]
     },
     "execution_count": 18,
     "metadata": {},
     "output_type": "execute_result"
    }
   ],
   "source": [
    "con.add(6)\n",
    "con"
   ]
  },
  {
   "cell_type": "code",
   "execution_count": 20,
   "id": "7f2ed542",
   "metadata": {},
   "outputs": [
    {
     "data": {
      "text/plain": [
       "{2, 3, 4, 5, 6, 'A', 'B', 'H', 'Y', 'Z'}"
      ]
     },
     "execution_count": 20,
     "metadata": {},
     "output_type": "execute_result"
    }
   ],
   "source": [
    "con.add('H')\n",
    "con.add('B')\n",
    "con.add('Y')\n",
    "con.add('A')\n",
    "con.add('Z')\n",
    "con"
   ]
  },
  {
   "cell_type": "code",
   "execution_count": 21,
   "id": "ce2213b0",
   "metadata": {},
   "outputs": [],
   "source": [
    "coleccion = {'MisEstudiantes', 'Yo', 'Vos'}"
   ]
  },
  {
   "cell_type": "code",
   "execution_count": 22,
   "id": "dfcecca0",
   "metadata": {},
   "outputs": [
    {
     "data": {
      "text/plain": [
       "True"
      ]
     },
     "execution_count": 22,
     "metadata": {},
     "output_type": "execute_result"
    }
   ],
   "source": [
    "'Vos' in coleccion"
   ]
  },
  {
   "cell_type": "code",
   "execution_count": 23,
   "id": "183d4ba7",
   "metadata": {},
   "outputs": [
    {
     "data": {
      "text/plain": [
       "False"
      ]
     },
     "execution_count": 23,
     "metadata": {},
     "output_type": "execute_result"
    }
   ],
   "source": [
    "'Cualquiera' in coleccion"
   ]
  },
  {
   "cell_type": "code",
   "execution_count": 24,
   "id": "f8028e5f",
   "metadata": {},
   "outputs": [
    {
     "data": {
      "text/plain": [
       "{'repetido'}"
      ]
     },
     "execution_count": 24,
     "metadata": {},
     "output_type": "execute_result"
    }
   ],
   "source": [
    "repetido = {'repetido', 'repetido', 'repetido', 'repetido', 'repetido', 'repetido'}\n",
    "repetido"
   ]
  },
  {
   "cell_type": "code",
   "execution_count": 25,
   "id": "a638ff83",
   "metadata": {},
   "outputs": [],
   "source": [
    "lista = [5, 5, 6, 6, 7, 7]"
   ]
  },
  {
   "cell_type": "code",
   "execution_count": 26,
   "id": "14cbbb56",
   "metadata": {},
   "outputs": [
    {
     "data": {
      "text/plain": [
       "{5, 6, 7}"
      ]
     },
     "execution_count": 26,
     "metadata": {},
     "output_type": "execute_result"
    }
   ],
   "source": [
    "conjunto = set(lista)\n",
    "conjunto"
   ]
  },
  {
   "cell_type": "code",
   "execution_count": 27,
   "id": "e93eaffa",
   "metadata": {},
   "outputs": [],
   "source": [
    "cadena = 'Mañana martes 8 va a ser un día ercelente, jajajaja'"
   ]
  },
  {
   "cell_type": "code",
   "execution_count": 28,
   "id": "e9b5e05b",
   "metadata": {},
   "outputs": [
    {
     "data": {
      "text/plain": [
       "{' ',\n",
       " ',',\n",
       " '8',\n",
       " 'M',\n",
       " 'a',\n",
       " 'c',\n",
       " 'd',\n",
       " 'e',\n",
       " 'j',\n",
       " 'l',\n",
       " 'm',\n",
       " 'n',\n",
       " 'r',\n",
       " 's',\n",
       " 't',\n",
       " 'u',\n",
       " 'v',\n",
       " 'í',\n",
       " 'ñ'}"
      ]
     },
     "execution_count": 28,
     "metadata": {},
     "output_type": "execute_result"
    }
   ],
   "source": [
    "set(cadena)"
   ]
  },
  {
   "cell_type": "code",
   "execution_count": null,
   "id": "c85a89f8",
   "metadata": {},
   "outputs": [],
   "source": [
    "# DICCIONARIO"
   ]
  },
  {
   "cell_type": "code",
   "execution_count": 31,
   "id": "da7ffcc5",
   "metadata": {},
   "outputs": [
    {
     "data": {
      "text/plain": [
       "dict"
      ]
     },
     "execution_count": 31,
     "metadata": {},
     "output_type": "execute_result"
    }
   ],
   "source": [
    "# Declaración de un diccionario\n",
    "diccionario = {'Alvaro':'Chirou', 'Estudiantes':'Genios'}\n",
    "# Función Type() para ver que tipo es\n",
    "type(diccionario)"
   ]
  },
  {
   "cell_type": "code",
   "execution_count": 33,
   "id": "f60c27e5",
   "metadata": {},
   "outputs": [
    {
     "data": {
      "text/plain": [
       "'Chirou'"
      ]
     },
     "execution_count": 33,
     "metadata": {},
     "output_type": "execute_result"
    }
   ],
   "source": [
    "# Mostrar el valor de la clave 'Alvaro'\n",
    "diccionario['Alvaro']"
   ]
  },
  {
   "cell_type": "code",
   "execution_count": 34,
   "id": "9a58ed57",
   "metadata": {},
   "outputs": [
    {
     "data": {
      "text/plain": [
       "{'Alvaro': 'Profesor', 'Estudiantes': 'Genios'}"
      ]
     },
     "execution_count": 34,
     "metadata": {},
     "output_type": "execute_result"
    }
   ],
   "source": [
    "# Cambiar el valor de la clave 'Alvaro'\n",
    "diccionario['Alvaro'] = 'Profesor'\n",
    "# Mostramos\n",
    "diccionario"
   ]
  },
  {
   "cell_type": "code",
   "execution_count": 35,
   "id": "aab672e9",
   "metadata": {},
   "outputs": [
    {
     "data": {
      "text/plain": [
       "{'Estudiantes': 'Genios'}"
      ]
     },
     "execution_count": 35,
     "metadata": {},
     "output_type": "execute_result"
    }
   ],
   "source": [
    "# Eliminamos un elemento del diccionario\n",
    "del(diccionario['Alvaro'])\n",
    "# Mostramos\n",
    "diccionario"
   ]
  },
  {
   "cell_type": "code",
   "execution_count": 36,
   "id": "1fd7b416",
   "metadata": {},
   "outputs": [
    {
     "data": {
      "text/plain": [
       "{'estudiantes': 20, 'otros': 30}"
      ]
     },
     "execution_count": 36,
     "metadata": {},
     "output_type": "execute_result"
    }
   ],
   "source": [
    "# Declaramos otro diccionario\n",
    "edades_de_mis_estudiantes = {'estudiantes':20, 'otros':30}\n",
    "# Mostramos\n",
    "edades_de_mis_estudiantes"
   ]
  },
  {
   "cell_type": "code",
   "execution_count": 37,
   "id": "879b1d3e",
   "metadata": {},
   "outputs": [
    {
     "data": {
      "text/plain": [
       "{'estudiantes': 21, 'otros': 30}"
      ]
     },
     "execution_count": 37,
     "metadata": {},
     "output_type": "execute_result"
    }
   ],
   "source": [
    "# Aumentamos en 1 el valor de los 'estudiantes'\n",
    "edades_de_mis_estudiantes['estudiantes']+=1\n",
    "# Mostramos\n",
    "edades_de_mis_estudiantes"
   ]
  },
  {
   "cell_type": "code",
   "execution_count": 38,
   "id": "488a188f",
   "metadata": {},
   "outputs": [
    {
     "data": {
      "text/plain": [
       "51"
      ]
     },
     "execution_count": 38,
     "metadata": {},
     "output_type": "execute_result"
    }
   ],
   "source": [
    "# Sumamos las edades\n",
    "edades_de_mis_estudiantes['estudiantes'] + edades_de_mis_estudiantes['otros']"
   ]
  },
  {
   "cell_type": "code",
   "execution_count": 39,
   "id": "fcae91cd",
   "metadata": {},
   "outputs": [
    {
     "name": "stdout",
     "output_type": "stream",
     "text": [
      "estudiantes\n",
      "otros\n"
     ]
    }
   ],
   "source": [
    "# Mostramos las claves del diccionario\n",
    "for edades in edades_de_mis_estudiantes:\n",
    "    print(edades)"
   ]
  },
  {
   "cell_type": "code",
   "execution_count": 40,
   "id": "346e1d16",
   "metadata": {},
   "outputs": [
    {
     "name": "stdout",
     "output_type": "stream",
     "text": [
      "estudiantes 21\n",
      "otros 30\n"
     ]
    }
   ],
   "source": [
    "# Mostramos las claves y sus valores del diccionario\n",
    "for edades in edades_de_mis_estudiantes:\n",
    "    print(edades, edades_de_mis_estudiantes[edades])"
   ]
  },
  {
   "cell_type": "code",
   "execution_count": 41,
   "id": "e506a2d9",
   "metadata": {},
   "outputs": [
    {
     "data": {
      "text/plain": [
       "[{'estudiantes': 21, 'otros': 30}]"
      ]
     },
     "execution_count": 41,
     "metadata": {},
     "output_type": "execute_result"
    }
   ],
   "source": [
    "# Agregamos un diccionario dentro de una lista\n",
    "lista = []\n",
    "lista.append(edades_de_mis_estudiantes)\n",
    "# Mostramos\n",
    "lista"
   ]
  },
  {
   "cell_type": "code",
   "execution_count": 42,
   "id": "fe251b96",
   "metadata": {},
   "outputs": [
    {
     "data": {
      "text/plain": [
       "[{'estudiantes': 21, 'otros': 30}, {'masestudiantes': 40, 'masgenios': 50}]"
      ]
     },
     "execution_count": 42,
     "metadata": {},
     "output_type": "execute_result"
    }
   ],
   "source": [
    "edades_de_mis_estudiantes = {'masestudiantes':40, 'masgenios':50}\n",
    "# Agregamos otra lista\n",
    "lista.append(edades_de_mis_estudiantes)\n",
    "# Mostramos\n",
    "lista"
   ]
  },
  {
   "cell_type": "code",
   "execution_count": null,
   "id": "f119dc1a",
   "metadata": {},
   "outputs": [],
   "source": [
    "# PILAS"
   ]
  },
  {
   "cell_type": "code",
   "execution_count": 2,
   "id": "00e3a4c3",
   "metadata": {},
   "outputs": [],
   "source": [
    "# Generamos una lista\n",
    "apilar = [1, 2, 3, 4]"
   ]
  },
  {
   "cell_type": "code",
   "execution_count": 3,
   "id": "f8406625",
   "metadata": {},
   "outputs": [],
   "source": [
    "# Agregamos un 3\n",
    "apilar.append(3)"
   ]
  },
  {
   "cell_type": "code",
   "execution_count": 4,
   "id": "9979b286",
   "metadata": {},
   "outputs": [],
   "source": [
    "# Agregamos un 6\n",
    "apilar.append(6)"
   ]
  },
  {
   "cell_type": "code",
   "execution_count": 5,
   "id": "5daf61aa",
   "metadata": {},
   "outputs": [],
   "source": [
    "# Agregamos un 8\n",
    "apilar.append(8)"
   ]
  },
  {
   "cell_type": "code",
   "execution_count": 6,
   "id": "ccb50df3",
   "metadata": {},
   "outputs": [
    {
     "data": {
      "text/plain": [
       "[1, 2, 3, 4, 3, 6, 8]"
      ]
     },
     "execution_count": 6,
     "metadata": {},
     "output_type": "execute_result"
    }
   ],
   "source": [
    "# Mostramos\n",
    "apilar"
   ]
  },
  {
   "cell_type": "code",
   "execution_count": 7,
   "id": "429bca2b",
   "metadata": {},
   "outputs": [
    {
     "data": {
      "text/plain": [
       "8"
      ]
     },
     "execution_count": 7,
     "metadata": {},
     "output_type": "execute_result"
    }
   ],
   "source": [
    "# Quitamos el último elemento insertado (este se pierde)\n",
    "apilar.pop()"
   ]
  },
  {
   "cell_type": "code",
   "execution_count": 8,
   "id": "b91f19ba",
   "metadata": {},
   "outputs": [
    {
     "data": {
      "text/plain": [
       "[1, 2, 3, 4, 3, 6]"
      ]
     },
     "execution_count": 8,
     "metadata": {},
     "output_type": "execute_result"
    }
   ],
   "source": [
    "# Mostramos\n",
    "apilar"
   ]
  },
  {
   "cell_type": "code",
   "execution_count": 9,
   "id": "3f3ddff4",
   "metadata": {},
   "outputs": [
    {
     "data": {
      "text/plain": [
       "6"
      ]
     },
     "execution_count": 9,
     "metadata": {},
     "output_type": "execute_result"
    }
   ],
   "source": [
    "# para no perderlo hay que guardarlo en una variable\n",
    "no_perderlo = apilar.pop()\n",
    "no_perderlo"
   ]
  },
  {
   "cell_type": "code",
   "execution_count": null,
   "id": "4681a07b",
   "metadata": {},
   "outputs": [],
   "source": [
    "# COLAS"
   ]
  },
  {
   "cell_type": "code",
   "execution_count": 11,
   "id": "53af1408",
   "metadata": {},
   "outputs": [],
   "source": [
    "# Llamamos a la librería deque\n",
    "from collections import deque"
   ]
  },
  {
   "cell_type": "code",
   "execution_count": 12,
   "id": "2c41f528",
   "metadata": {},
   "outputs": [],
   "source": [
    "# Declaramos una cola\n",
    "colas = deque()"
   ]
  },
  {
   "cell_type": "code",
   "execution_count": 13,
   "id": "6b8bf1db",
   "metadata": {},
   "outputs": [
    {
     "data": {
      "text/plain": [
       "deque([])"
      ]
     },
     "execution_count": 13,
     "metadata": {},
     "output_type": "execute_result"
    }
   ],
   "source": [
    "# Mostramos\n",
    "colas"
   ]
  },
  {
   "cell_type": "code",
   "execution_count": 14,
   "id": "14300817",
   "metadata": {},
   "outputs": [
    {
     "data": {
      "text/plain": [
       "collections.deque"
      ]
     },
     "execution_count": 14,
     "metadata": {},
     "output_type": "execute_result"
    }
   ],
   "source": [
    "# Verificamos el tipo\n",
    "type(colas)"
   ]
  },
  {
   "cell_type": "code",
   "execution_count": 15,
   "id": "b14f9c0c",
   "metadata": {},
   "outputs": [],
   "source": [
    "# Insertamos elementos\n",
    "colas = deque(['Alvaro', 'Estudiantes', 'Familia', 'genios'])"
   ]
  },
  {
   "cell_type": "code",
   "execution_count": 16,
   "id": "b790d3fa",
   "metadata": {},
   "outputs": [
    {
     "data": {
      "text/plain": [
       "deque(['Alvaro', 'Estudiantes', 'Familia', 'genios'])"
      ]
     },
     "execution_count": 16,
     "metadata": {},
     "output_type": "execute_result"
    }
   ],
   "source": [
    "# Mostramos\n",
    "colas"
   ]
  },
  {
   "cell_type": "code",
   "execution_count": 17,
   "id": "834d66f9",
   "metadata": {},
   "outputs": [
    {
     "data": {
      "text/plain": [
       "'genios'"
      ]
     },
     "execution_count": 17,
     "metadata": {},
     "output_type": "execute_result"
    }
   ],
   "source": [
    "# Quitamos el primero en ingresar, en este caso 'genios'\n",
    "colas.pop()"
   ]
  },
  {
   "cell_type": "code",
   "execution_count": 18,
   "id": "eb42dcea",
   "metadata": {},
   "outputs": [
    {
     "data": {
      "text/plain": [
       "'Alvaro'"
      ]
     },
     "execution_count": 18,
     "metadata": {},
     "output_type": "execute_result"
    }
   ],
   "source": [
    "# Quitamos el último en ingresar, en este caso 'Alvaro'\n",
    "colas.popleft()"
   ]
  },
  {
   "cell_type": "code",
   "execution_count": 19,
   "id": "82628241",
   "metadata": {},
   "outputs": [
    {
     "data": {
      "text/plain": [
       "deque(['Estudiantes', 'Familia'])"
      ]
     },
     "execution_count": 19,
     "metadata": {},
     "output_type": "execute_result"
    }
   ],
   "source": [
    "# Mostramos\n",
    "colas"
   ]
  },
  {
   "cell_type": "code",
   "execution_count": null,
   "id": "0ea54b79",
   "metadata": {},
   "outputs": [],
   "source": []
  },
  {
   "cell_type": "code",
   "execution_count": null,
   "id": "9efe9b1f",
   "metadata": {},
   "outputs": [],
   "source": []
  },
  {
   "cell_type": "code",
   "execution_count": null,
   "id": "16901c6c",
   "metadata": {},
   "outputs": [],
   "source": []
  },
  {
   "cell_type": "code",
   "execution_count": null,
   "id": "fefcc989",
   "metadata": {},
   "outputs": [],
   "source": []
  }
 ],
 "metadata": {
  "kernelspec": {
   "display_name": "Python 3",
   "language": "python",
   "name": "python3"
  },
  "language_info": {
   "codemirror_mode": {
    "name": "ipython",
    "version": 3
   },
   "file_extension": ".py",
   "mimetype": "text/x-python",
   "name": "python",
   "nbconvert_exporter": "python",
   "pygments_lexer": "ipython3",
   "version": "3.8.8"
  }
 },
 "nbformat": 4,
 "nbformat_minor": 5
}
