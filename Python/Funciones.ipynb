{
 "cells": [
  {
   "cell_type": "code",
   "execution_count": 1,
   "id": "f4ec8571",
   "metadata": {},
   "outputs": [],
   "source": [
    "# FUNCIONES"
   ]
  },
  {
   "cell_type": "code",
   "execution_count": 2,
   "id": "1d117982",
   "metadata": {},
   "outputs": [
    {
     "name": "stdout",
     "output_type": "stream",
     "text": [
      "Genios mis estudiantes parte de mi familia digital\n"
     ]
    }
   ],
   "source": [
    "# Declaración de una función\n",
    "def estudiantes():\n",
    "    print(\"Genios mis estudiantes parte de mi familia digital\")\n",
    "# Llamamos a la función\n",
    "estudiantes()"
   ]
  },
  {
   "cell_type": "code",
   "execution_count": 3,
   "id": "bd776e37",
   "metadata": {},
   "outputs": [
    {
     "name": "stdout",
     "output_type": "stream",
     "text": [
      "7 * 0 = 0\n",
      "7 * 1 = 7\n",
      "7 * 2 = 14\n",
      "7 * 3 = 21\n",
      "7 * 4 = 28\n",
      "7 * 5 = 35\n",
      "7 * 6 = 42\n",
      "7 * 7 = 49\n",
      "7 * 8 = 56\n",
      "7 * 9 = 63\n"
     ]
    }
   ],
   "source": [
    "# Declaración de otra función\n",
    "def tabla_del_7():\n",
    "    for x in range(10):\n",
    "        print(\"7 * {} = {}\".format(x, 7*x))\n",
    "# Llamamos a la función\n",
    "tabla_del_7()"
   ]
  },
  {
   "cell_type": "code",
   "execution_count": 4,
   "id": "a25cc17d",
   "metadata": {},
   "outputs": [],
   "source": [
    "# Declaración de otra función\n",
    "def advierto():\n",
    "    varaible = 'alvaro'\n",
    "# Llamamos a la función\n",
    "advierto()"
   ]
  },
  {
   "cell_type": "code",
   "execution_count": 5,
   "id": "8683ce6f",
   "metadata": {},
   "outputs": [
    {
     "ename": "NameError",
     "evalue": "name 'variable' is not defined",
     "output_type": "error",
     "traceback": [
      "\u001b[1;31m---------------------------------------------------------------------------\u001b[0m",
      "\u001b[1;31mNameError\u001b[0m                                 Traceback (most recent call last)",
      "\u001b[1;32m<ipython-input-5-1748287bc46a>\u001b[0m in \u001b[0;36m<module>\u001b[1;34m\u001b[0m\n\u001b[1;32m----> 1\u001b[1;33m \u001b[0mvariable\u001b[0m\u001b[1;33m\u001b[0m\u001b[1;33m\u001b[0m\u001b[0m\n\u001b[0m",
      "\u001b[1;31mNameError\u001b[0m: name 'variable' is not defined"
     ]
    }
   ],
   "source": [
    "# La variable no es Global, por eso arroja error\n",
    "variable"
   ]
  },
  {
   "cell_type": "code",
   "execution_count": 6,
   "id": "610ffd06",
   "metadata": {},
   "outputs": [
    {
     "name": "stdout",
     "output_type": "stream",
     "text": [
      "alvaro\n",
      "alvaro\n",
      "alvaro\n"
     ]
    }
   ],
   "source": [
    "# Modificamos la función\n",
    "def advierto():\n",
    "    # Declaramos la variable como Global\n",
    "    global variable\n",
    "    variable = 'alvaro'\n",
    "    print(variable)\n",
    "# Llamamos a la función\n",
    "advierto()\n",
    "\n",
    "# Renombramos la variable desde fuera,\n",
    "# esto no se puede\n",
    "variable = 'chirou'\n",
    "#Llamamos a la función\n",
    "advierto()\n",
    "# Imprimimos la variable\n",
    "print(variable)"
   ]
  },
  {
   "cell_type": "code",
   "execution_count": 7,
   "id": "532b56d6",
   "metadata": {},
   "outputs": [],
   "source": [
    "# RETORNO Y ENVIO DE VALORES"
   ]
  },
  {
   "cell_type": "code",
   "execution_count": 9,
   "id": "3ef5ff8d",
   "metadata": {},
   "outputs": [
    {
     "data": {
      "text/plain": [
       "'Mis estudiantes son unos genios'"
      ]
     },
     "execution_count": 9,
     "metadata": {},
     "output_type": "execute_result"
    }
   ],
   "source": [
    "# Definimos una variable\n",
    "def estudiantes():\n",
    "    return \"Mis estudiantes son unos genios\"\n",
    "# Llamamos a la función\n",
    "estudiantes()"
   ]
  },
  {
   "cell_type": "code",
   "execution_count": 10,
   "id": "d1a57b5f",
   "metadata": {},
   "outputs": [
    {
     "name": "stdout",
     "output_type": "stream",
     "text": [
      "Mis estudiantes son unos genios\n"
     ]
    }
   ],
   "source": [
    "# Llamamos nuevamente a la función\n",
    "print(estudiantes())"
   ]
  },
  {
   "cell_type": "code",
   "execution_count": 11,
   "id": "3cfaf6fc",
   "metadata": {},
   "outputs": [
    {
     "name": "stdout",
     "output_type": "stream",
     "text": [
      "[5, 6, 4, 7]\n"
     ]
    }
   ],
   "source": [
    "# Definimos nueva función\n",
    "def estudiantes():\n",
    "    return [5, 6, 4, 7]\n",
    "# Llamamos a la función\n",
    "print(estudiantes())"
   ]
  },
  {
   "cell_type": "code",
   "execution_count": 13,
   "id": "add9bc1f",
   "metadata": {},
   "outputs": [
    {
     "name": "stdout",
     "output_type": "stream",
     "text": [
      "[5, 6]\n"
     ]
    }
   ],
   "source": [
    "# Llamamos, pero imprimimos una sola parte de la lista\n",
    "print(estudiantes()[0:2])"
   ]
  },
  {
   "cell_type": "code",
   "execution_count": 14,
   "id": "6405016f",
   "metadata": {},
   "outputs": [
    {
     "data": {
      "text/plain": [
       "('Alvaro Chirou', 'Mis estudiantes', 10, [5, 6, 4, 7])"
      ]
     },
     "execution_count": 14,
     "metadata": {},
     "output_type": "execute_result"
    }
   ],
   "source": [
    "# Definimos una nueva función\n",
    "def estudiantes():\n",
    "    # Retornamos multiples variables\n",
    "    return \"Alvaro Chirou\", 'Mis estudiantes', 10, [5, 6, 4, 7]\n",
    "# Llamamos a la función\n",
    "estudiantes()"
   ]
  },
  {
   "cell_type": "code",
   "execution_count": 15,
   "id": "c3c36a0b",
   "metadata": {},
   "outputs": [],
   "source": [
    "# Asignación multiple de variables\n",
    "a, b, c, d = estudiantes()"
   ]
  },
  {
   "cell_type": "code",
   "execution_count": 16,
   "id": "f80bcd70",
   "metadata": {},
   "outputs": [
    {
     "name": "stdout",
     "output_type": "stream",
     "text": [
      "Alvaro Chirou\n"
     ]
    }
   ],
   "source": [
    "print(a)"
   ]
  },
  {
   "cell_type": "code",
   "execution_count": 17,
   "id": "561ce935",
   "metadata": {},
   "outputs": [
    {
     "name": "stdout",
     "output_type": "stream",
     "text": [
      "Mis estudiantes\n"
     ]
    }
   ],
   "source": [
    "print(b)"
   ]
  },
  {
   "cell_type": "code",
   "execution_count": 18,
   "id": "f1120d9b",
   "metadata": {},
   "outputs": [
    {
     "name": "stdout",
     "output_type": "stream",
     "text": [
      "10\n"
     ]
    }
   ],
   "source": [
    "print(c)"
   ]
  },
  {
   "cell_type": "code",
   "execution_count": 19,
   "id": "3d6b715c",
   "metadata": {},
   "outputs": [
    {
     "name": "stdout",
     "output_type": "stream",
     "text": [
      "[5, 6, 4, 7]\n"
     ]
    }
   ],
   "source": [
    "print(d)"
   ]
  },
  {
   "cell_type": "code",
   "execution_count": 23,
   "id": "ae5fa67a",
   "metadata": {},
   "outputs": [
    {
     "data": {
      "text/plain": [
       "25"
      ]
     },
     "execution_count": 23,
     "metadata": {},
     "output_type": "execute_result"
    }
   ],
   "source": [
    "# Definimos otra variable\n",
    "def multiplicacion(i, x):\n",
    "    return i * x\n",
    "# Llamamos a la función\n",
    "multiplicacion(5,5)"
   ]
  },
  {
   "cell_type": "code",
   "execution_count": 24,
   "id": "0b432da7",
   "metadata": {},
   "outputs": [
    {
     "name": "stdout",
     "output_type": "stream",
     "text": [
      "16\n"
     ]
    }
   ],
   "source": [
    "variable = multiplicacion(8,2)\n",
    "print(variable)"
   ]
  },
  {
   "cell_type": "code",
   "execution_count": null,
   "id": "bb50b33c",
   "metadata": {},
   "outputs": [],
   "source": [
    "# ARGUMENTOS POR VALOR, REFERENCIA Y PARAMETROS INDEXADOS"
   ]
  },
  {
   "cell_type": "code",
   "execution_count": 25,
   "id": "0c2689b6",
   "metadata": {},
   "outputs": [
    {
     "data": {
      "text/plain": [
       "0"
      ]
     },
     "execution_count": 25,
     "metadata": {},
     "output_type": "execute_result"
    }
   ],
   "source": [
    "# Definimos una función\n",
    "def funciones(a,b):\n",
    "    return a-b\n",
    "# Llamamos \n",
    "funciones(2,2)"
   ]
  },
  {
   "cell_type": "code",
   "execution_count": 26,
   "id": "f1c75af1",
   "metadata": {},
   "outputs": [
    {
     "ename": "TypeError",
     "evalue": "funciones() missing 2 required positional arguments: 'a' and 'b'",
     "output_type": "error",
     "traceback": [
      "\u001b[1;31m---------------------------------------------------------------------------\u001b[0m",
      "\u001b[1;31mTypeError\u001b[0m                                 Traceback (most recent call last)",
      "\u001b[1;32m<ipython-input-26-181b57e0ac08>\u001b[0m in \u001b[0;36m<module>\u001b[1;34m\u001b[0m\n\u001b[1;32m----> 1\u001b[1;33m \u001b[0mfunciones\u001b[0m\u001b[1;33m(\u001b[0m\u001b[1;33m)\u001b[0m\u001b[1;33m\u001b[0m\u001b[1;33m\u001b[0m\u001b[0m\n\u001b[0m",
      "\u001b[1;31mTypeError\u001b[0m: funciones() missing 2 required positional arguments: 'a' and 'b'"
     ]
    }
   ],
   "source": [
    "# Esta función exige los 2 parametros, por eso arroja el error\n",
    "funciones()"
   ]
  },
  {
   "cell_type": "code",
   "execution_count": 27,
   "id": "99f2614d",
   "metadata": {},
   "outputs": [
    {
     "data": {
      "text/plain": [
       "-1"
      ]
     },
     "execution_count": 27,
     "metadata": {},
     "output_type": "execute_result"
    }
   ],
   "source": [
    "# Otra forma de llamar\n",
    "funciones(b=2, a=1)"
   ]
  },
  {
   "cell_type": "code",
   "execution_count": 28,
   "id": "a87acbe1",
   "metadata": {},
   "outputs": [
    {
     "name": "stdout",
     "output_type": "stream",
     "text": [
      "Amigo, debes ingresar los números\n"
     ]
    }
   ],
   "source": [
    "# Definimos otra función, pero validamos los parámetros\n",
    "def nulo(x=None, i=None):\n",
    "    if x == None or i == None:\n",
    "        print('Amigo, debes ingresar los números')\n",
    "        return\n",
    "    return x/i\n",
    "# Llamamos\n",
    "nulo()"
   ]
  },
  {
   "cell_type": "code",
   "execution_count": 29,
   "id": "3a3cf103",
   "metadata": {},
   "outputs": [
    {
     "data": {
      "text/plain": [
       "1.0"
      ]
     },
     "execution_count": 29,
     "metadata": {},
     "output_type": "execute_result"
    }
   ],
   "source": [
    "nulo(2,2)"
   ]
  },
  {
   "cell_type": "code",
   "execution_count": 1,
   "id": "0467b70c",
   "metadata": {},
   "outputs": [],
   "source": [
    "# Argumento por valor\n",
    "def argu(*tu):\n",
    "    for tus in tu:\n",
    "        print(tus)"
   ]
  },
  {
   "cell_type": "code",
   "execution_count": 2,
   "id": "62d512dc",
   "metadata": {},
   "outputs": [
    {
     "name": "stdout",
     "output_type": "stream",
     "text": [
      "Alvaro\n",
      "Chirou\n",
      "estudiantes\n",
      "10\n",
      "[1, 2, 3]\n"
     ]
    }
   ],
   "source": [
    "argu('Alvaro', 'Chirou', 'estudiantes', 10, [1, 2, 3])"
   ]
  },
  {
   "cell_type": "code",
   "execution_count": 3,
   "id": "4b135c12",
   "metadata": {},
   "outputs": [
    {
     "name": "stdout",
     "output_type": "stream",
     "text": [
      "10\n",
      "Alvaro   Chirou\n",
      "Estudiantes   Genios\n",
      "Calificaciones   [7, 8, 9]\n"
     ]
    }
   ],
   "source": [
    "# Argumento por nombre\n",
    "def nombre_diccionario(*tu, **lo):\n",
    "    b = 0\n",
    "    for tus in tu:\n",
    "        b += tus\n",
    "    print(b)\n",
    "    for x in lo:\n",
    "        print(x, \" \", lo[x])\n",
    "\n",
    "nombre_diccionario(1, 2, 3, 4, Alvaro = 'Chirou', Estudiantes = 'Genios', Calificaciones = [7, 8, 9])    "
   ]
  },
  {
   "cell_type": "code",
   "execution_count": null,
   "id": "7dbf88d1",
   "metadata": {},
   "outputs": [],
   "source": [
    "# Funciones recursivas e integradas"
   ]
  },
  {
   "cell_type": "code",
   "execution_count": 6,
   "id": "27ed9637",
   "metadata": {},
   "outputs": [
    {
     "name": "stdout",
     "output_type": "stream",
     "text": [
      "10\n",
      "9\n",
      "8\n",
      "7\n",
      "6\n",
      "5\n",
      "4\n",
      "3\n",
      "2\n",
      "1\n",
      "0\n",
      "Termino la cuenta atras\n"
     ]
    }
   ],
   "source": [
    "# Funciones recursivas\n",
    "def recursiva(numero):\n",
    "    print(numero)\n",
    "    if numero > 0:\n",
    "        recursiva(numero-1)\n",
    "    else:\n",
    "        print(\"Termino la cuenta atras\")\n",
    "        exit\n",
    "recursiva(10)"
   ]
  },
  {
   "cell_type": "code",
   "execution_count": null,
   "id": "0c0211b5",
   "metadata": {},
   "outputs": [],
   "source": [
    "# Algunas funciones integradas"
   ]
  },
  {
   "cell_type": "code",
   "execution_count": 7,
   "id": "8f6a44f7",
   "metadata": {},
   "outputs": [
    {
     "data": {
      "text/plain": [
       "15"
      ]
     },
     "execution_count": 7,
     "metadata": {},
     "output_type": "execute_result"
    }
   ],
   "source": [
    "e = int(\"15\")\n",
    "e"
   ]
  },
  {
   "cell_type": "code",
   "execution_count": 8,
   "id": "d1722ab2",
   "metadata": {},
   "outputs": [
    {
     "data": {
      "text/plain": [
       "'0b1111'"
      ]
     },
     "execution_count": 8,
     "metadata": {},
     "output_type": "execute_result"
    }
   ],
   "source": [
    "bin(15)"
   ]
  },
  {
   "cell_type": "code",
   "execution_count": 9,
   "id": "96d37742",
   "metadata": {},
   "outputs": [
    {
     "data": {
      "text/plain": [
       "'0xf'"
      ]
     },
     "execution_count": 9,
     "metadata": {},
     "output_type": "execute_result"
    }
   ],
   "source": [
    "hex(15)"
   ]
  },
  {
   "cell_type": "code",
   "execution_count": 10,
   "id": "6106efac",
   "metadata": {},
   "outputs": [
    {
     "data": {
      "text/plain": [
       "10"
      ]
     },
     "execution_count": 10,
     "metadata": {},
     "output_type": "execute_result"
    }
   ],
   "source": [
    "abs(-10)"
   ]
  },
  {
   "cell_type": "code",
   "execution_count": 11,
   "id": "66f872b4",
   "metadata": {},
   "outputs": [
    {
     "data": {
      "text/plain": [
       "6"
      ]
     },
     "execution_count": 11,
     "metadata": {},
     "output_type": "execute_result"
    }
   ],
   "source": [
    "round(5.5)"
   ]
  },
  {
   "cell_type": "code",
   "execution_count": 13,
   "id": "214535c6",
   "metadata": {},
   "outputs": [
    {
     "data": {
      "text/plain": [
       "5"
      ]
     },
     "execution_count": 13,
     "metadata": {},
     "output_type": "execute_result"
    }
   ],
   "source": [
    "round(5.4)"
   ]
  },
  {
   "cell_type": "code",
   "execution_count": 14,
   "id": "8aee3238",
   "metadata": {
    "scrolled": true
   },
   "outputs": [
    {
     "data": {
      "text/plain": [
       "6"
      ]
     },
     "execution_count": 14,
     "metadata": {},
     "output_type": "execute_result"
    }
   ],
   "source": [
    "len(\"Manuel\")"
   ]
  },
  {
   "cell_type": "code",
   "execution_count": null,
   "id": "8132a8d3",
   "metadata": {},
   "outputs": [],
   "source": [
    "help()"
   ]
  },
  {
   "cell_type": "code",
   "execution_count": null,
   "id": "5abceb62",
   "metadata": {},
   "outputs": [],
   "source": []
  }
 ],
 "metadata": {
  "kernelspec": {
   "display_name": "Python 3",
   "language": "python",
   "name": "python3"
  },
  "language_info": {
   "codemirror_mode": {
    "name": "ipython",
    "version": 3
   },
   "file_extension": ".py",
   "mimetype": "text/x-python",
   "name": "python",
   "nbconvert_exporter": "python",
   "pygments_lexer": "ipython3",
   "version": "3.8.8"
  }
 },
 "nbformat": 4,
 "nbformat_minor": 5
}
