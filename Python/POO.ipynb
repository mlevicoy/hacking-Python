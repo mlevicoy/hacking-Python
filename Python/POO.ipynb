{
 "cells": [
  {
   "cell_type": "code",
   "execution_count": null,
   "id": "9ecec2da",
   "metadata": {},
   "outputs": [],
   "source": [
    "# POO"
   ]
  },
  {
   "cell_type": "code",
   "execution_count": null,
   "id": "f4b0028c",
   "metadata": {},
   "outputs": [],
   "source": [
    "# Objeto: entidad que agrupa un estado\n",
    "# Clase: Crean los objetos\n",
    "\n",
    "# Creamos una clase vacia con el pass\n",
    "class Estudiantes:\n",
    "    pass\n",
    "\n",
    "# Instanciamos la clase, creamos el objeto\n",
    "Estudiantes = Estudiantes()\n",
    "\n",
    "type(Estudiantes)"
   ]
  },
  {
   "cell_type": "code",
   "execution_count": null,
   "id": "f36f7ba3",
   "metadata": {},
   "outputs": [],
   "source": [
    "# ATRIBUTOS Y MÉTODOS"
   ]
  },
  {
   "cell_type": "code",
   "execution_count": null,
   "id": "aa3204ae",
   "metadata": {},
   "outputs": [],
   "source": [
    "# Creamos la clase vacia\n",
    "class Auto:\n",
    "    pass\n",
    "\n",
    "# Creamos el objeto\n",
    "consecionaria = Auto()\n",
    "\n",
    "# Le damos algunos atributos\n",
    "consecionaria.color = \"Rojo\"\n",
    "consecionaria.puertas = \"Muchas\"\n",
    "print(\"Mi auto es de color: \", consecionaria.color)"
   ]
  },
  {
   "cell_type": "code",
   "execution_count": null,
   "id": "411a8313",
   "metadata": {},
   "outputs": [],
   "source": [
    "class Auto:\n",
    "    Rojo = False\n",
    "c = Auto()\n",
    "c.Rojo"
   ]
  },
  {
   "cell_type": "code",
   "execution_count": null,
   "id": "05ddecf2",
   "metadata": {},
   "outputs": [],
   "source": [
    "# Creamos la clase\n",
    "class Auto:\n",
    "    # Declaramos un atributo\n",
    "    Rojo = False\n",
    "    \n",
    "    # Metodo de iniciación, con self se puede acceder\n",
    "    # a los métodos y atributos de la clase\n",
    "    def __init__(self):\n",
    "        print(\"Se creo un Auto\")\n",
    "    \n",
    "    # Metodo\n",
    "    def fabricar(self):\n",
    "        self.Rojo = True\n",
    "    \n",
    "    # Metodo\n",
    "    def confirmar_fabricacion(self):\n",
    "        if(self.Rojo):\n",
    "            print(\"Auto coloreado en rojo\")\n",
    "        else:\n",
    "            print(\"Aun no esta coloreado\")\n",
    "\n",
    "# Creamos el objeto\n",
    "a = Auto()\n",
    "# Llamamos a los métodos\n",
    "a.confirmar_fabricacion()\n",
    "a.fabricar()\n",
    "a.confirmar_fabricacion()"
   ]
  },
  {
   "cell_type": "code",
   "execution_count": null,
   "id": "c736aaae",
   "metadata": {},
   "outputs": [],
   "source": [
    "class Auto:\n",
    "    Rojo = False\n",
    "    \n",
    "    def __init__(self, puertas = None, color = None):\n",
    "        self.puertas = puertas\n",
    "        self.color = color\n",
    "        if puertas is not None and color is not None:\n",
    "            print(\"Se creo un auto con {} puertas y de color {}\".format(puertas, color))\n",
    "        \n",
    "    def fabricar(self):\n",
    "        self.Rojo = True\n",
    "    \n",
    "    def confirmar_fabricacion(self):\n",
    "        if(self.Rojo):\n",
    "            print(\"Auto coloreado en rojo\")\n",
    "        else:\n",
    "            print(\"Aun no esta coloreado\")\n",
    "\n",
    "a = Auto(\"2\", \"Verde\")"
   ]
  },
  {
   "cell_type": "code",
   "execution_count": null,
   "id": "47c66c05",
   "metadata": {},
   "outputs": [],
   "source": [
    "# METODOS ESPECIALES"
   ]
  },
  {
   "cell_type": "code",
   "execution_count": null,
   "id": "8b3af8b4",
   "metadata": {},
   "outputs": [],
   "source": [
    "class Fabrica:\n",
    "    # Contructor (se va creando un auto cada vez que se llama)\n",
    "    def __init__(self, tiempo, nombre, ruedas):\n",
    "        self.tiempo = tiempo\n",
    "        self.nombre = nombre\n",
    "        self.ruedas = ruedas\n",
    "        print(\"Se creo el auto\", self.nombre)\n",
    "    # Destructor (va eliminando un auto, permite solo crear uno)\n",
    "    def __del__(self):\n",
    "        print(\"Se elimino el auto\", self.nombre)\n",
    "    # Permite agregar un texto\n",
    "    def __str__(self):\n",
    "        return \"{} se fabrico con exito, en el tiempo {} y tiene esta cantidad de ruedas {}.\".format(self.nombre, self.tiempo, self.ruedas)\n",
    "    # Muestra el largo\n",
    "    def __len__(self):\n",
    "        return self.tiempo          "
   ]
  },
  {
   "cell_type": "code",
   "execution_count": null,
   "id": "5923c531",
   "metadata": {},
   "outputs": [],
   "source": [
    "# Se crea el objeto\n",
    "a = Fabrica(10, \"Daniel\", 4)"
   ]
  },
  {
   "cell_type": "code",
   "execution_count": null,
   "id": "2783825d",
   "metadata": {},
   "outputs": [],
   "source": [
    "# Se vuelve a crear el objeto\n",
    "a = Fabrica(20, \"Andrea\", 4)"
   ]
  },
  {
   "cell_type": "code",
   "execution_count": null,
   "id": "01729799",
   "metadata": {},
   "outputs": [],
   "source": [
    "# Se llama al método str()\n",
    "str(a)"
   ]
  },
  {
   "cell_type": "code",
   "execution_count": null,
   "id": "f8e211cd",
   "metadata": {},
   "outputs": [],
   "source": [
    "# Se llama al método len()\n",
    "len(a)"
   ]
  },
  {
   "cell_type": "code",
   "execution_count": null,
   "id": "e8867aab",
   "metadata": {},
   "outputs": [],
   "source": [
    "# OBJETOS EMBEBIDOS"
   ]
  },
  {
   "cell_type": "code",
   "execution_count": null,
   "id": "8046a843",
   "metadata": {},
   "outputs": [],
   "source": [
    "# Se crea la clase\n",
    "class Fabrica:\n",
    "    # Contructor\n",
    "    def __init__(self, tiempo, nombre, ruedas):\n",
    "        self.tiempo = tiempo\n",
    "        self.nombre = nombre\n",
    "        self.ruedas = ruedas\n",
    "        print(\"Se creo el auto\", self.nombre)\n",
    "    # Retornamos un mensaje\n",
    "    def __str__(self):\n",
    "        return \"{}({})\".format(self.nombre, self.tiempo)"
   ]
  },
  {
   "cell_type": "code",
   "execution_count": null,
   "id": "ea5ffb14",
   "metadata": {},
   "outputs": [],
   "source": [
    "# Clase listado que listara los autos creados\n",
    "class Listado:\n",
    "    autos = []\n",
    "    # Contructor que inicializa la lista\n",
    "    def __init__(self, autos=[]):\n",
    "        self.autos = autos\n",
    "    # Agrega un auto con el append\n",
    "    def fabricar(self, x):\n",
    "        self.autos.append(x)\n",
    "    # Muestra la lista\n",
    "    def visualizar(self):\n",
    "        for x in self.autos:\n",
    "            print(x)  "
   ]
  },
  {
   "cell_type": "code",
   "execution_count": null,
   "id": "7517efb4",
   "metadata": {},
   "outputs": [],
   "source": [
    "# Creamos el objeto\n",
    "a = Fabrica(10, \"Alvaro\", 4)"
   ]
  },
  {
   "cell_type": "code",
   "execution_count": null,
   "id": "35a45422",
   "metadata": {},
   "outputs": [],
   "source": [
    "# Creamos el objeto y enviamos el objeto \"a\"\n",
    "l = Listado([a])"
   ]
  },
  {
   "cell_type": "code",
   "execution_count": null,
   "id": "c0aea9d1",
   "metadata": {},
   "outputs": [],
   "source": [
    "# Mostramos la lista de autos\n",
    "l.visualizar()"
   ]
  },
  {
   "cell_type": "code",
   "execution_count": null,
   "id": "cf5c2c1a",
   "metadata": {},
   "outputs": [],
   "source": [
    "# Creamos un nuevo auto\n",
    "l.fabricar(Fabrica(10, \"Manuel\", 3))"
   ]
  },
  {
   "cell_type": "code",
   "execution_count": null,
   "id": "ec860df3",
   "metadata": {},
   "outputs": [],
   "source": [
    "l.visualizar()"
   ]
  },
  {
   "cell_type": "code",
   "execution_count": null,
   "id": "cb724bd0",
   "metadata": {},
   "outputs": [],
   "source": [
    "# ENCAPSULAMIENTO"
   ]
  },
  {
   "cell_type": "code",
   "execution_count": null,
   "id": "9e949731",
   "metadata": {},
   "outputs": [],
   "source": [
    "# El encapsulamiento no existe, pero se puede emular\n",
    "class Encapsulamiento:\n",
    "    __privado_atributo = \"Soy un atributo que no se puede acceder desde afuera de la clase\"\n",
    "    def __privado_metodo(self):\n",
    "        print(\"Soy un método que no puede ser accedido desde afuera de la clase\")"
   ]
  },
  {
   "cell_type": "code",
   "execution_count": null,
   "id": "13c5682a",
   "metadata": {},
   "outputs": [],
   "source": [
    "# Generamos el objeto\n",
    "e = Encapsulamiento()"
   ]
  },
  {
   "cell_type": "code",
   "execution_count": null,
   "id": "6afed3b8",
   "metadata": {},
   "outputs": [],
   "source": [
    "# Verificamos que \"e\" es una clase \n",
    "e"
   ]
  },
  {
   "cell_type": "code",
   "execution_count": null,
   "id": "cfa53a59",
   "metadata": {},
   "outputs": [],
   "source": [
    "# Tratamos de mostrar el atributo privado, pero arrojara un error\n",
    "e.__privado_atributo"
   ]
  },
  {
   "cell_type": "code",
   "execution_count": null,
   "id": "2398c3b1",
   "metadata": {},
   "outputs": [],
   "source": [
    "# Tratamos de mostrar el método privado, pero arroja un error\n",
    "e.__privado_metodo()"
   ]
  },
  {
   "cell_type": "code",
   "execution_count": null,
   "id": "5f288aa3",
   "metadata": {},
   "outputs": [],
   "source": [
    "# Para poder acceder se debe llamar desde dentro de la clase, entonces:\n",
    "class Encapsulamiento:\n",
    "    __privado_atributo = \"Soy un atributo que no podrá ser llamado desde fuera de la clase\"\n",
    "    \n",
    "    def __privado_metodo(self):\n",
    "        print(\"Soy un método privado que no podrá ser llamado desde fuera de la clase\")\n",
    "    \n",
    "    def publico_atributo(self):\n",
    "        return self.__privado_atributo\n",
    "    \n",
    "    def publico_metodo(self):\n",
    "        return self.__privado_metodo()"
   ]
  },
  {
   "cell_type": "code",
   "execution_count": null,
   "id": "5bf35f82",
   "metadata": {},
   "outputs": [],
   "source": [
    "# Creamos el objeto\n",
    "e = Encapsulamiento()"
   ]
  },
  {
   "cell_type": "code",
   "execution_count": null,
   "id": "641a3ca8",
   "metadata": {},
   "outputs": [],
   "source": [
    "# Mostramos el atributo\n",
    "e.publico_atributo()"
   ]
  },
  {
   "cell_type": "code",
   "execution_count": null,
   "id": "c401f337",
   "metadata": {},
   "outputs": [],
   "source": [
    "# Mostramos el método\n",
    "e.publico_metodo()"
   ]
  },
  {
   "cell_type": "code",
   "execution_count": null,
   "id": "3c1bec2f",
   "metadata": {},
   "outputs": [],
   "source": [
    "# HERENCIA"
   ]
  },
  {
   "cell_type": "code",
   "execution_count": null,
   "id": "02ec059f",
   "metadata": {},
   "outputs": [],
   "source": [
    "# Clase sin herencia, para contextualizar, donde ruedas y distrubuidor \n",
    "# no son necesarias\n",
    "class Fabrica:\n",
    "    def __init__(self, marca, nombre, precio, descripcion, ruedas=None, distribuidor=None):\n",
    "        self.marca = marca\n",
    "        self.nombre = nombre\n",
    "        self.precio = precio\n",
    "        self.descripcion = descripcion\n",
    "        self.ruedas = ruedas\n",
    "        self.distribuidor = distribuidor\n",
    "\n",
    "Auto = Fabrica('Ford', 'Ranger', 'Camioneta 4x4', 4)"
   ]
  },
  {
   "cell_type": "code",
   "execution_count": null,
   "id": "e409a30a",
   "metadata": {},
   "outputs": [],
   "source": [
    "Auto.nombre"
   ]
  },
  {
   "cell_type": "code",
   "execution_count": null,
   "id": "2edec7c9",
   "metadata": {},
   "outputs": [],
   "source": [
    "# Para ejemplificar la herencia, se quita las ruedas y distribuidor que seran creados por\n",
    "# las clases que heredan\n",
    "class Fabrica:\n",
    "    # Creamos el constructor\n",
    "    def __init__(self, marca, nombre, precio, descripcion):\n",
    "        self.marca = marca\n",
    "        self.nombre = nombre\n",
    "        self.precio = precio\n",
    "        self.descripcion = descripcion\n",
    "    # Creamos el str\n",
    "    def __str__(self):\n",
    "        # Con tres comillas se permite colocar salto de linea, y la barra inicial permite\n",
    "        # eliminar las tabulaciones inciales\n",
    "        return \"\"\"\\\n",
    "MARCA\\t\\t{}\n",
    "NOMBRE\\t\\t{}\n",
    "PRECIO\\t\\t{}\n",
    "DESCRIPCION\\t{}\"\"\".format(self.marca, self.nombre, self.precio, self.descripcion)    "
   ]
  },
  {
   "cell_type": "code",
   "execution_count": null,
   "id": "52a228b0",
   "metadata": {},
   "outputs": [],
   "source": [
    "# Clase Auto que hereda la clase Fabrica\n",
    "class Auto(Fabrica):\n",
    "    pass\n",
    "\n",
    "# Como herede de Fabrica puede fabricar vehiculos \n",
    "z = Auto('Ford', 'Ranger', 100.000, 'Camioneta')\n",
    "print(z)"
   ]
  },
  {
   "cell_type": "code",
   "execution_count": null,
   "id": "8cc720a9",
   "metadata": {},
   "outputs": [],
   "source": [
    "# Clase Deportivo que hereda la clase Fabrica\n",
    "class Deportivo(Fabrica):\n",
    "    ruedas = \"\"\n",
    "    distribuidor = \"\"\n",
    "    \n",
    "    def __str__(self):\n",
    "        return \"\"\"\\\n",
    "MARCA\\t\\t{}\n",
    "NOMBRE\\t\\t{}\n",
    "PRECIO\\t\\t{}\n",
    "DESCRIPCION\\t{}\n",
    "RUEDAS\\t\\t{}\n",
    "DISTRIBUIDOR\\t{}\"\"\".format(self.marca,self.nombre,self.precio,self.descripcion,self.ruedas,self.distribuidor) "
   ]
  },
  {
   "cell_type": "code",
   "execution_count": null,
   "id": "320e07e7",
   "metadata": {},
   "outputs": [],
   "source": [
    "deportivo = Deportivo('Volkwagen', 'Vento', 54000, 'El mejor')\n",
    "deportivo.ruedas = 3\n",
    "deportivo.distribuidor = 'Tu Autito'"
   ]
  },
  {
   "cell_type": "code",
   "execution_count": null,
   "id": "6fbd3f4d",
   "metadata": {},
   "outputs": [],
   "source": [
    "print(deportivo)"
   ]
  },
  {
   "cell_type": "code",
   "execution_count": null,
   "id": "eca87588",
   "metadata": {},
   "outputs": [],
   "source": [
    "# CLASES HEREDADAS Y POLIMORFISMO "
   ]
  },
  {
   "cell_type": "code",
   "execution_count": 1,
   "id": "aea14b75",
   "metadata": {},
   "outputs": [],
   "source": [
    "# Clase principal\n",
    "class Fabrica:\n",
    "    def __init__(self, marca, nombre, precio, descripcion):\n",
    "        self.marca = marca\n",
    "        self.nombre = nombre\n",
    "        self.precio = precio\n",
    "        self.descripcion = descripcion\n",
    "    \n",
    "    def __str__(self):\n",
    "        return \"\"\"\\\n",
    "MARCA\\t\\t{}\n",
    "NOMBRE\\t\\t{}\n",
    "PRECIO\\t\\t{}\n",
    "DESCRIPCION\\t{}\"\"\".format(self.marca,self.nombre,self.precio,self.descripcion)"
   ]
  },
  {
   "cell_type": "code",
   "execution_count": 2,
   "id": "ff5e05b6",
   "metadata": {},
   "outputs": [],
   "source": [
    "# Clase secundaria que hereda de Fabrica\n",
    "class Auto(Fabrica):\n",
    "    pass"
   ]
  },
  {
   "cell_type": "code",
   "execution_count": 3,
   "id": "93df7ebb",
   "metadata": {},
   "outputs": [],
   "source": [
    "# Clase secundaria que hereda de Fabrica\n",
    "class Deportivo(Fabrica):\n",
    "    ruedas = \"\"\n",
    "    distribuidor = \"\"\n",
    "    \n",
    "    def __str__(self):\n",
    "        return \"\"\"\\\n",
    "MARCA\\t\\t{}\n",
    "NOMBRE\\t\\t{}\n",
    "PRECIO\\t\\t{}\n",
    "DESCRIPCION\\t{}\n",
    "RUEDAS\\t\\t{}\n",
    "DISTRIBUIDOR\\t{}\"\"\".format(self.marca,self.nombre,self.precio,self.descripcion,self.ruedas,self.distribuidor)"
   ]
  },
  {
   "cell_type": "code",
   "execution_count": 4,
   "id": "f721bad8",
   "metadata": {},
   "outputs": [],
   "source": [
    "# Clase secundaria que hereda de Fabrica\n",
    "class Accesorios(Fabrica):\n",
    "    autor = \"\"\n",
    "    fabricante = \"\"\n",
    "    \n",
    "    def __str__(self):\n",
    "        return \"\"\"\\\n",
    "MARCA\\t\\t{}\n",
    "NOMBRE\\t\\t{}\n",
    "PRECIO\\t\\t{}\n",
    "DESCRIPCION\\t{}\n",
    "AUTOR\\t\\t{}\n",
    "FABRICANTE\\t{}\"\"\".format(self.marca,self.nombre,self.precio,self.descripcion,self.autor,self.fabricante)"
   ]
  },
  {
   "cell_type": "code",
   "execution_count": 5,
   "id": "1d53e306",
   "metadata": {},
   "outputs": [],
   "source": [
    "# Generamos los objetos\n",
    "a = Auto('Ford', 'Ranger', 100000, 'Camioneta')\n",
    "\n",
    "deportivo = Deportivo('Volkswagen', 'Vento', 5400, 'El mejor')\n",
    "deportivo.ruedas = 3\n",
    "deportivo.distribuidor = 'Tu autito'\n",
    "\n",
    "accesorios = Accesorios('Fiat', 'Luces de neon', 10000, 'Iluminan mejor')\n",
    "accesorios.autor = 'Vos'\n",
    "accesorios.fabricante = 'Yo'"
   ]
  },
  {
   "cell_type": "code",
   "execution_count": 6,
   "id": "4360bf8b",
   "metadata": {},
   "outputs": [],
   "source": [
    "# Creamos una lista y colocamos los objetos \"accesorios\" y \"deportivo\"\n",
    "fabrica = [accesorios, deportivo]"
   ]
  },
  {
   "cell_type": "code",
   "execution_count": 7,
   "id": "c72c8e37",
   "metadata": {},
   "outputs": [],
   "source": [
    "# Agregamos objeto \"a\" a la lista\n",
    "fabrica.append(a)"
   ]
  },
  {
   "cell_type": "code",
   "execution_count": 8,
   "id": "23cf44f8",
   "metadata": {},
   "outputs": [
    {
     "data": {
      "text/plain": [
       "[<__main__.Accesorios at 0x1a8ffd18760>,\n",
       " <__main__.Deportivo at 0x1a8ffd18a60>,\n",
       " <__main__.Auto at 0x1a8ffd18ac0>]"
      ]
     },
     "execution_count": 8,
     "metadata": {},
     "output_type": "execute_result"
    }
   ],
   "source": [
    "# Se verifica que es una lista de objetos\n",
    "fabrica"
   ]
  },
  {
   "cell_type": "code",
   "execution_count": 9,
   "id": "bfc85d40",
   "metadata": {},
   "outputs": [
    {
     "name": "stdout",
     "output_type": "stream",
     "text": [
      "MARCA\t\tFiat\n",
      "NOMBRE\t\tLuces de neon\n",
      "PRECIO\t\t10000\n",
      "DESCRIPCION\tIluminan mejor\n",
      "AUTOR\t\tVos\n",
      "FABRICANTE\tYo \n",
      "\n",
      "MARCA\t\tVolkswagen\n",
      "NOMBRE\t\tVento\n",
      "PRECIO\t\t5400\n",
      "DESCRIPCION\tEl mejor\n",
      "RUEDAS\t\t3\n",
      "DISTRIBUIDOR\tTu autito \n",
      "\n",
      "MARCA\t\tFord\n",
      "NOMBRE\t\tRanger\n",
      "PRECIO\t\t100000\n",
      "DESCRIPCION\tCamioneta \n",
      "\n"
     ]
    }
   ],
   "source": [
    "# Se recorreo la lista completa\n",
    "for x in fabrica:\n",
    "    print(x, \"\\n\")"
   ]
  },
  {
   "cell_type": "code",
   "execution_count": 10,
   "id": "ceee7bc8",
   "metadata": {},
   "outputs": [
    {
     "name": "stdout",
     "output_type": "stream",
     "text": [
      "Fiat 10000\n",
      "Volkswagen 5400\n",
      "Ford 100000\n"
     ]
    }
   ],
   "source": [
    "# No arroja error porque todos tiene marca y precio\n",
    "for x in fabrica:\n",
    "    print(x.marca, x.precio)"
   ]
  },
  {
   "cell_type": "code",
   "execution_count": 11,
   "id": "0f6b173d",
   "metadata": {},
   "outputs": [
    {
     "name": "stdout",
     "output_type": "stream",
     "text": [
      "Vos\n"
     ]
    },
    {
     "ename": "AttributeError",
     "evalue": "'Deportivo' object has no attribute 'autor'",
     "output_type": "error",
     "traceback": [
      "\u001b[1;31m---------------------------------------------------------------------------\u001b[0m",
      "\u001b[1;31mAttributeError\u001b[0m                            Traceback (most recent call last)",
      "\u001b[1;32m<ipython-input-11-c2357622f23b>\u001b[0m in \u001b[0;36m<module>\u001b[1;34m\u001b[0m\n\u001b[0;32m      1\u001b[0m \u001b[1;32mfor\u001b[0m \u001b[0mx\u001b[0m \u001b[1;32min\u001b[0m \u001b[0mfabrica\u001b[0m\u001b[1;33m:\u001b[0m\u001b[1;33m\u001b[0m\u001b[1;33m\u001b[0m\u001b[0m\n\u001b[1;32m----> 2\u001b[1;33m     \u001b[0mprint\u001b[0m\u001b[1;33m(\u001b[0m\u001b[0mx\u001b[0m\u001b[1;33m.\u001b[0m\u001b[0mautor\u001b[0m\u001b[1;33m)\u001b[0m\u001b[1;33m\u001b[0m\u001b[1;33m\u001b[0m\u001b[0m\n\u001b[0m",
      "\u001b[1;31mAttributeError\u001b[0m: 'Deportivo' object has no attribute 'autor'"
     ]
    }
   ],
   "source": [
    "# Arroja error porque autor no existen en todos los objetos\n",
    "for x in fabrica:\n",
    "    print(x.autor)"
   ]
  },
  {
   "cell_type": "code",
   "execution_count": 12,
   "id": "072e2d26",
   "metadata": {},
   "outputs": [
    {
     "name": "stdout",
     "output_type": "stream",
     "text": [
      "Fiat Luces de neon Yo\n",
      "Volkswagen Vento 3\n",
      "Ford Ranger\n"
     ]
    }
   ],
   "source": [
    "# \"isinstance\" permite consultar objeto por objeto, de esta forma no \n",
    "# tendremos el error anterior\n",
    "for x in fabrica:\n",
    "    if(isinstance(x, Auto)):\n",
    "        print(x.marca, x.nombre)\n",
    "    elif(isinstance(x, Deportivo)):\n",
    "        print(x.marca, x.nombre, x.ruedas)\n",
    "    elif(isinstance(x, Accesorios)):\n",
    "        print(x.marca, x.nombre, x.fabricante)"
   ]
  },
  {
   "cell_type": "code",
   "execution_count": null,
   "id": "b6ca3ae3",
   "metadata": {},
   "outputs": [],
   "source": [
    "# polimorfismo es una propiedad de la herencia por la que los objetos de \n",
    "# distintas subclases pueden responder a una misma acción "
   ]
  },
  {
   "cell_type": "code",
   "execution_count": 13,
   "id": "a0627acc",
   "metadata": {},
   "outputs": [],
   "source": [
    "# genera un descuento a un accesorio\n",
    "def descuento_accesorio(t, descuento):\n",
    "    t.precio = t.precio - (t.precio/100 * descuento)    "
   ]
  },
  {
   "cell_type": "code",
   "execution_count": 14,
   "id": "de12158d",
   "metadata": {},
   "outputs": [],
   "source": [
    "# Aplicamos el descuento\n",
    "descuento_accesorio(accesorios, 10)"
   ]
  },
  {
   "cell_type": "code",
   "execution_count": 15,
   "id": "e7ad4f41",
   "metadata": {},
   "outputs": [
    {
     "data": {
      "text/plain": [
       "9000.0"
      ]
     },
     "execution_count": 15,
     "metadata": {},
     "output_type": "execute_result"
    }
   ],
   "source": [
    "accesorios.precio"
   ]
  },
  {
   "cell_type": "code",
   "execution_count": 16,
   "id": "9cddb3a7",
   "metadata": {},
   "outputs": [],
   "source": [
    "# Libreria que permite generar una copia de un objeto\n",
    "import copy\n",
    "copia_deportivo = copy.copy(accesorios)"
   ]
  },
  {
   "cell_type": "code",
   "execution_count": 18,
   "id": "139a8bc2",
   "metadata": {},
   "outputs": [
    {
     "name": "stdout",
     "output_type": "stream",
     "text": [
      "MARCA\t\tFiat\n",
      "NOMBRE\t\tLuces de neon\n",
      "PRECIO\t\t9000.0\n",
      "DESCRIPCION\tIluminan mejor\n",
      "AUTOR\t\tVos\n",
      "FABRICANTE\tYo\n"
     ]
    }
   ],
   "source": [
    "print(copia_deportivo)"
   ]
  },
  {
   "cell_type": "code",
   "execution_count": null,
   "id": "b50ff8db",
   "metadata": {},
   "outputs": [],
   "source": [
    "# HERENCIA MULTIPLE"
   ]
  },
  {
   "cell_type": "code",
   "execution_count": 19,
   "id": "d7a0b21f",
   "metadata": {},
   "outputs": [],
   "source": [
    "class Primera:\n",
    "    def __init__(self):\n",
    "        print(\"Yo soy la Primera clase\")\n",
    "    def primera(self):\n",
    "        print(\"Este es el método heredado de Primera\")\n",
    "\n",
    "class Segunda:\n",
    "    def __init__(self):\n",
    "        print(\"Yo soy la Segunda clase\")\n",
    "    def segunda(self):\n",
    "        print(\"Este es el método heredado de Segunda\")\n",
    "\n",
    "class Tercera(Segunda, Primera):\n",
    "    def tercera(self):\n",
    "        print(\"Este es el método heredado de Tercera\")"
   ]
  },
  {
   "cell_type": "code",
   "execution_count": 20,
   "id": "79c727a8",
   "metadata": {},
   "outputs": [
    {
     "name": "stdout",
     "output_type": "stream",
     "text": [
      "Yo soy la Segunda clase\n"
     ]
    }
   ],
   "source": [
    "# La herencia multiple siempre da prioridad a la clase que esta más a \n",
    "# la izquierda. Para solucionar este problema se hace lo de abajo\n",
    "herencia_multiple = Tercera()"
   ]
  },
  {
   "cell_type": "code",
   "execution_count": 21,
   "id": "135fd156",
   "metadata": {},
   "outputs": [
    {
     "name": "stdout",
     "output_type": "stream",
     "text": [
      "Este es el método heredado de Primera\n"
     ]
    }
   ],
   "source": [
    "herencia_multiple.primera()"
   ]
  },
  {
   "cell_type": "code",
   "execution_count": 22,
   "id": "93e341ff",
   "metadata": {},
   "outputs": [
    {
     "name": "stdout",
     "output_type": "stream",
     "text": [
      "Este es el método heredado de Segunda\n"
     ]
    }
   ],
   "source": [
    "herencia_multiple.segunda()"
   ]
  },
  {
   "cell_type": "code",
   "execution_count": 23,
   "id": "b2a5c4fe",
   "metadata": {},
   "outputs": [
    {
     "name": "stdout",
     "output_type": "stream",
     "text": [
      "Este es el método heredado de Tercera\n"
     ]
    }
   ],
   "source": [
    "herencia_multiple.tercera()"
   ]
  },
  {
   "cell_type": "code",
   "execution_count": null,
   "id": "cdf02a3b",
   "metadata": {},
   "outputs": [],
   "source": []
  },
  {
   "cell_type": "code",
   "execution_count": null,
   "id": "31499fdd",
   "metadata": {},
   "outputs": [],
   "source": []
  }
 ],
 "metadata": {
  "kernelspec": {
   "display_name": "Python 3",
   "language": "python",
   "name": "python3"
  },
  "language_info": {
   "codemirror_mode": {
    "name": "ipython",
    "version": 3
   },
   "file_extension": ".py",
   "mimetype": "text/x-python",
   "name": "python",
   "nbconvert_exporter": "python",
   "pygments_lexer": "ipython3",
   "version": "3.8.8"
  }
 },
 "nbformat": 4,
 "nbformat_minor": 5
}
